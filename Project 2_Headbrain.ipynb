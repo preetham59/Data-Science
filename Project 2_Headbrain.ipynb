{
 "cells": [
  {
   "cell_type": "code",
   "execution_count": 1,
   "metadata": {},
   "outputs": [],
   "source": [
    "import numpy as np\n",
    "import pandas as pd\n",
    "import sklearn\n",
    "import seaborn as sns\n",
    "import matplotlib.pyplot as plt\n",
    "from sklearn.linear_model import LinearRegression\n",
    "from sklearn.metrics import mean_squared_error\n",
    "from sklearn.model_selection import train_test_split"
   ]
  },
  {
   "cell_type": "code",
   "execution_count": 2,
   "metadata": {},
   "outputs": [
    {
     "data": {
      "text/html": [
       "<div>\n",
       "<style scoped>\n",
       "    .dataframe tbody tr th:only-of-type {\n",
       "        vertical-align: middle;\n",
       "    }\n",
       "\n",
       "    .dataframe tbody tr th {\n",
       "        vertical-align: top;\n",
       "    }\n",
       "\n",
       "    .dataframe thead th {\n",
       "        text-align: right;\n",
       "    }\n",
       "</style>\n",
       "<table border=\"1\" class=\"dataframe\">\n",
       "  <thead>\n",
       "    <tr style=\"text-align: right;\">\n",
       "      <th></th>\n",
       "      <th>Gender</th>\n",
       "      <th>AgeRange</th>\n",
       "      <th>HeadSize</th>\n",
       "      <th>BrainWeight</th>\n",
       "    </tr>\n",
       "  </thead>\n",
       "  <tbody>\n",
       "    <tr>\n",
       "      <th>0</th>\n",
       "      <td>1</td>\n",
       "      <td>1</td>\n",
       "      <td>4512</td>\n",
       "      <td>1530</td>\n",
       "    </tr>\n",
       "    <tr>\n",
       "      <th>1</th>\n",
       "      <td>1</td>\n",
       "      <td>1</td>\n",
       "      <td>3738</td>\n",
       "      <td>1297</td>\n",
       "    </tr>\n",
       "    <tr>\n",
       "      <th>2</th>\n",
       "      <td>1</td>\n",
       "      <td>1</td>\n",
       "      <td>4261</td>\n",
       "      <td>1335</td>\n",
       "    </tr>\n",
       "    <tr>\n",
       "      <th>3</th>\n",
       "      <td>1</td>\n",
       "      <td>1</td>\n",
       "      <td>3777</td>\n",
       "      <td>1282</td>\n",
       "    </tr>\n",
       "    <tr>\n",
       "      <th>4</th>\n",
       "      <td>1</td>\n",
       "      <td>1</td>\n",
       "      <td>4177</td>\n",
       "      <td>1590</td>\n",
       "    </tr>\n",
       "    <tr>\n",
       "      <th>5</th>\n",
       "      <td>1</td>\n",
       "      <td>1</td>\n",
       "      <td>3585</td>\n",
       "      <td>1300</td>\n",
       "    </tr>\n",
       "    <tr>\n",
       "      <th>6</th>\n",
       "      <td>1</td>\n",
       "      <td>1</td>\n",
       "      <td>3785</td>\n",
       "      <td>1400</td>\n",
       "    </tr>\n",
       "    <tr>\n",
       "      <th>7</th>\n",
       "      <td>1</td>\n",
       "      <td>1</td>\n",
       "      <td>3559</td>\n",
       "      <td>1255</td>\n",
       "    </tr>\n",
       "    <tr>\n",
       "      <th>8</th>\n",
       "      <td>1</td>\n",
       "      <td>1</td>\n",
       "      <td>3613</td>\n",
       "      <td>1355</td>\n",
       "    </tr>\n",
       "    <tr>\n",
       "      <th>9</th>\n",
       "      <td>1</td>\n",
       "      <td>1</td>\n",
       "      <td>3982</td>\n",
       "      <td>1375</td>\n",
       "    </tr>\n",
       "    <tr>\n",
       "      <th>10</th>\n",
       "      <td>1</td>\n",
       "      <td>1</td>\n",
       "      <td>3443</td>\n",
       "      <td>1340</td>\n",
       "    </tr>\n",
       "    <tr>\n",
       "      <th>11</th>\n",
       "      <td>1</td>\n",
       "      <td>1</td>\n",
       "      <td>3993</td>\n",
       "      <td>1380</td>\n",
       "    </tr>\n",
       "    <tr>\n",
       "      <th>12</th>\n",
       "      <td>1</td>\n",
       "      <td>1</td>\n",
       "      <td>3640</td>\n",
       "      <td>1355</td>\n",
       "    </tr>\n",
       "    <tr>\n",
       "      <th>13</th>\n",
       "      <td>1</td>\n",
       "      <td>1</td>\n",
       "      <td>4208</td>\n",
       "      <td>1522</td>\n",
       "    </tr>\n",
       "    <tr>\n",
       "      <th>14</th>\n",
       "      <td>1</td>\n",
       "      <td>1</td>\n",
       "      <td>3832</td>\n",
       "      <td>1208</td>\n",
       "    </tr>\n",
       "    <tr>\n",
       "      <th>15</th>\n",
       "      <td>1</td>\n",
       "      <td>1</td>\n",
       "      <td>3876</td>\n",
       "      <td>1405</td>\n",
       "    </tr>\n",
       "    <tr>\n",
       "      <th>16</th>\n",
       "      <td>1</td>\n",
       "      <td>1</td>\n",
       "      <td>3497</td>\n",
       "      <td>1358</td>\n",
       "    </tr>\n",
       "    <tr>\n",
       "      <th>17</th>\n",
       "      <td>1</td>\n",
       "      <td>1</td>\n",
       "      <td>3466</td>\n",
       "      <td>1292</td>\n",
       "    </tr>\n",
       "    <tr>\n",
       "      <th>18</th>\n",
       "      <td>1</td>\n",
       "      <td>1</td>\n",
       "      <td>3095</td>\n",
       "      <td>1340</td>\n",
       "    </tr>\n",
       "    <tr>\n",
       "      <th>19</th>\n",
       "      <td>1</td>\n",
       "      <td>1</td>\n",
       "      <td>4424</td>\n",
       "      <td>1400</td>\n",
       "    </tr>\n",
       "    <tr>\n",
       "      <th>20</th>\n",
       "      <td>1</td>\n",
       "      <td>1</td>\n",
       "      <td>3878</td>\n",
       "      <td>1357</td>\n",
       "    </tr>\n",
       "    <tr>\n",
       "      <th>21</th>\n",
       "      <td>1</td>\n",
       "      <td>1</td>\n",
       "      <td>4046</td>\n",
       "      <td>1287</td>\n",
       "    </tr>\n",
       "    <tr>\n",
       "      <th>22</th>\n",
       "      <td>1</td>\n",
       "      <td>1</td>\n",
       "      <td>3804</td>\n",
       "      <td>1275</td>\n",
       "    </tr>\n",
       "    <tr>\n",
       "      <th>23</th>\n",
       "      <td>1</td>\n",
       "      <td>1</td>\n",
       "      <td>3710</td>\n",
       "      <td>1270</td>\n",
       "    </tr>\n",
       "    <tr>\n",
       "      <th>24</th>\n",
       "      <td>1</td>\n",
       "      <td>1</td>\n",
       "      <td>4747</td>\n",
       "      <td>1635</td>\n",
       "    </tr>\n",
       "    <tr>\n",
       "      <th>25</th>\n",
       "      <td>1</td>\n",
       "      <td>1</td>\n",
       "      <td>4423</td>\n",
       "      <td>1505</td>\n",
       "    </tr>\n",
       "    <tr>\n",
       "      <th>26</th>\n",
       "      <td>1</td>\n",
       "      <td>1</td>\n",
       "      <td>4036</td>\n",
       "      <td>1490</td>\n",
       "    </tr>\n",
       "    <tr>\n",
       "      <th>27</th>\n",
       "      <td>1</td>\n",
       "      <td>1</td>\n",
       "      <td>4022</td>\n",
       "      <td>1485</td>\n",
       "    </tr>\n",
       "    <tr>\n",
       "      <th>28</th>\n",
       "      <td>1</td>\n",
       "      <td>1</td>\n",
       "      <td>3454</td>\n",
       "      <td>1310</td>\n",
       "    </tr>\n",
       "    <tr>\n",
       "      <th>29</th>\n",
       "      <td>1</td>\n",
       "      <td>1</td>\n",
       "      <td>4175</td>\n",
       "      <td>1420</td>\n",
       "    </tr>\n",
       "    <tr>\n",
       "      <th>...</th>\n",
       "      <td>...</td>\n",
       "      <td>...</td>\n",
       "      <td>...</td>\n",
       "      <td>...</td>\n",
       "    </tr>\n",
       "    <tr>\n",
       "      <th>207</th>\n",
       "      <td>2</td>\n",
       "      <td>2</td>\n",
       "      <td>3995</td>\n",
       "      <td>1296</td>\n",
       "    </tr>\n",
       "    <tr>\n",
       "      <th>208</th>\n",
       "      <td>2</td>\n",
       "      <td>2</td>\n",
       "      <td>3318</td>\n",
       "      <td>1175</td>\n",
       "    </tr>\n",
       "    <tr>\n",
       "      <th>209</th>\n",
       "      <td>2</td>\n",
       "      <td>2</td>\n",
       "      <td>2720</td>\n",
       "      <td>955</td>\n",
       "    </tr>\n",
       "    <tr>\n",
       "      <th>210</th>\n",
       "      <td>2</td>\n",
       "      <td>2</td>\n",
       "      <td>2937</td>\n",
       "      <td>1070</td>\n",
       "    </tr>\n",
       "    <tr>\n",
       "      <th>211</th>\n",
       "      <td>2</td>\n",
       "      <td>2</td>\n",
       "      <td>3580</td>\n",
       "      <td>1320</td>\n",
       "    </tr>\n",
       "    <tr>\n",
       "      <th>212</th>\n",
       "      <td>2</td>\n",
       "      <td>2</td>\n",
       "      <td>2939</td>\n",
       "      <td>1060</td>\n",
       "    </tr>\n",
       "    <tr>\n",
       "      <th>213</th>\n",
       "      <td>2</td>\n",
       "      <td>2</td>\n",
       "      <td>2989</td>\n",
       "      <td>1130</td>\n",
       "    </tr>\n",
       "    <tr>\n",
       "      <th>214</th>\n",
       "      <td>2</td>\n",
       "      <td>2</td>\n",
       "      <td>3586</td>\n",
       "      <td>1250</td>\n",
       "    </tr>\n",
       "    <tr>\n",
       "      <th>215</th>\n",
       "      <td>2</td>\n",
       "      <td>2</td>\n",
       "      <td>3156</td>\n",
       "      <td>1225</td>\n",
       "    </tr>\n",
       "    <tr>\n",
       "      <th>216</th>\n",
       "      <td>2</td>\n",
       "      <td>2</td>\n",
       "      <td>3246</td>\n",
       "      <td>1180</td>\n",
       "    </tr>\n",
       "    <tr>\n",
       "      <th>217</th>\n",
       "      <td>2</td>\n",
       "      <td>2</td>\n",
       "      <td>3170</td>\n",
       "      <td>1178</td>\n",
       "    </tr>\n",
       "    <tr>\n",
       "      <th>218</th>\n",
       "      <td>2</td>\n",
       "      <td>2</td>\n",
       "      <td>3268</td>\n",
       "      <td>1142</td>\n",
       "    </tr>\n",
       "    <tr>\n",
       "      <th>219</th>\n",
       "      <td>2</td>\n",
       "      <td>2</td>\n",
       "      <td>3389</td>\n",
       "      <td>1130</td>\n",
       "    </tr>\n",
       "    <tr>\n",
       "      <th>220</th>\n",
       "      <td>2</td>\n",
       "      <td>2</td>\n",
       "      <td>3381</td>\n",
       "      <td>1185</td>\n",
       "    </tr>\n",
       "    <tr>\n",
       "      <th>221</th>\n",
       "      <td>2</td>\n",
       "      <td>2</td>\n",
       "      <td>2864</td>\n",
       "      <td>1012</td>\n",
       "    </tr>\n",
       "    <tr>\n",
       "      <th>222</th>\n",
       "      <td>2</td>\n",
       "      <td>2</td>\n",
       "      <td>3740</td>\n",
       "      <td>1280</td>\n",
       "    </tr>\n",
       "    <tr>\n",
       "      <th>223</th>\n",
       "      <td>2</td>\n",
       "      <td>2</td>\n",
       "      <td>3479</td>\n",
       "      <td>1103</td>\n",
       "    </tr>\n",
       "    <tr>\n",
       "      <th>224</th>\n",
       "      <td>2</td>\n",
       "      <td>2</td>\n",
       "      <td>3647</td>\n",
       "      <td>1408</td>\n",
       "    </tr>\n",
       "    <tr>\n",
       "      <th>225</th>\n",
       "      <td>2</td>\n",
       "      <td>2</td>\n",
       "      <td>3716</td>\n",
       "      <td>1300</td>\n",
       "    </tr>\n",
       "    <tr>\n",
       "      <th>226</th>\n",
       "      <td>2</td>\n",
       "      <td>2</td>\n",
       "      <td>3284</td>\n",
       "      <td>1246</td>\n",
       "    </tr>\n",
       "    <tr>\n",
       "      <th>227</th>\n",
       "      <td>2</td>\n",
       "      <td>2</td>\n",
       "      <td>4204</td>\n",
       "      <td>1380</td>\n",
       "    </tr>\n",
       "    <tr>\n",
       "      <th>228</th>\n",
       "      <td>2</td>\n",
       "      <td>2</td>\n",
       "      <td>3735</td>\n",
       "      <td>1350</td>\n",
       "    </tr>\n",
       "    <tr>\n",
       "      <th>229</th>\n",
       "      <td>2</td>\n",
       "      <td>2</td>\n",
       "      <td>3218</td>\n",
       "      <td>1060</td>\n",
       "    </tr>\n",
       "    <tr>\n",
       "      <th>230</th>\n",
       "      <td>2</td>\n",
       "      <td>2</td>\n",
       "      <td>3685</td>\n",
       "      <td>1350</td>\n",
       "    </tr>\n",
       "    <tr>\n",
       "      <th>231</th>\n",
       "      <td>2</td>\n",
       "      <td>2</td>\n",
       "      <td>3704</td>\n",
       "      <td>1220</td>\n",
       "    </tr>\n",
       "    <tr>\n",
       "      <th>232</th>\n",
       "      <td>2</td>\n",
       "      <td>2</td>\n",
       "      <td>3214</td>\n",
       "      <td>1110</td>\n",
       "    </tr>\n",
       "    <tr>\n",
       "      <th>233</th>\n",
       "      <td>2</td>\n",
       "      <td>2</td>\n",
       "      <td>3394</td>\n",
       "      <td>1215</td>\n",
       "    </tr>\n",
       "    <tr>\n",
       "      <th>234</th>\n",
       "      <td>2</td>\n",
       "      <td>2</td>\n",
       "      <td>3233</td>\n",
       "      <td>1104</td>\n",
       "    </tr>\n",
       "    <tr>\n",
       "      <th>235</th>\n",
       "      <td>2</td>\n",
       "      <td>2</td>\n",
       "      <td>3352</td>\n",
       "      <td>1170</td>\n",
       "    </tr>\n",
       "    <tr>\n",
       "      <th>236</th>\n",
       "      <td>2</td>\n",
       "      <td>2</td>\n",
       "      <td>3391</td>\n",
       "      <td>1120</td>\n",
       "    </tr>\n",
       "  </tbody>\n",
       "</table>\n",
       "<p>237 rows × 4 columns</p>\n",
       "</div>"
      ],
      "text/plain": [
       "     Gender  AgeRange  HeadSize  BrainWeight\n",
       "0         1         1      4512         1530\n",
       "1         1         1      3738         1297\n",
       "2         1         1      4261         1335\n",
       "3         1         1      3777         1282\n",
       "4         1         1      4177         1590\n",
       "5         1         1      3585         1300\n",
       "6         1         1      3785         1400\n",
       "7         1         1      3559         1255\n",
       "8         1         1      3613         1355\n",
       "9         1         1      3982         1375\n",
       "10        1         1      3443         1340\n",
       "11        1         1      3993         1380\n",
       "12        1         1      3640         1355\n",
       "13        1         1      4208         1522\n",
       "14        1         1      3832         1208\n",
       "15        1         1      3876         1405\n",
       "16        1         1      3497         1358\n",
       "17        1         1      3466         1292\n",
       "18        1         1      3095         1340\n",
       "19        1         1      4424         1400\n",
       "20        1         1      3878         1357\n",
       "21        1         1      4046         1287\n",
       "22        1         1      3804         1275\n",
       "23        1         1      3710         1270\n",
       "24        1         1      4747         1635\n",
       "25        1         1      4423         1505\n",
       "26        1         1      4036         1490\n",
       "27        1         1      4022         1485\n",
       "28        1         1      3454         1310\n",
       "29        1         1      4175         1420\n",
       "..      ...       ...       ...          ...\n",
       "207       2         2      3995         1296\n",
       "208       2         2      3318         1175\n",
       "209       2         2      2720          955\n",
       "210       2         2      2937         1070\n",
       "211       2         2      3580         1320\n",
       "212       2         2      2939         1060\n",
       "213       2         2      2989         1130\n",
       "214       2         2      3586         1250\n",
       "215       2         2      3156         1225\n",
       "216       2         2      3246         1180\n",
       "217       2         2      3170         1178\n",
       "218       2         2      3268         1142\n",
       "219       2         2      3389         1130\n",
       "220       2         2      3381         1185\n",
       "221       2         2      2864         1012\n",
       "222       2         2      3740         1280\n",
       "223       2         2      3479         1103\n",
       "224       2         2      3647         1408\n",
       "225       2         2      3716         1300\n",
       "226       2         2      3284         1246\n",
       "227       2         2      4204         1380\n",
       "228       2         2      3735         1350\n",
       "229       2         2      3218         1060\n",
       "230       2         2      3685         1350\n",
       "231       2         2      3704         1220\n",
       "232       2         2      3214         1110\n",
       "233       2         2      3394         1215\n",
       "234       2         2      3233         1104\n",
       "235       2         2      3352         1170\n",
       "236       2         2      3391         1120\n",
       "\n",
       "[237 rows x 4 columns]"
      ]
     },
     "execution_count": 2,
     "metadata": {},
     "output_type": "execute_result"
    }
   ],
   "source": [
    "headbrain=pd.read_csv('headbrain.csv')\n",
    "headbrain"
   ]
  },
  {
   "cell_type": "code",
   "execution_count": 3,
   "metadata": {},
   "outputs": [
    {
     "data": {
      "text/plain": [
       "(237, 4)"
      ]
     },
     "execution_count": 3,
     "metadata": {},
     "output_type": "execute_result"
    }
   ],
   "source": [
    "headbrain.shape"
   ]
  },
  {
   "cell_type": "code",
   "execution_count": 7,
   "metadata": {},
   "outputs": [
    {
     "data": {
      "text/html": [
       "<div>\n",
       "<style scoped>\n",
       "    .dataframe tbody tr th:only-of-type {\n",
       "        vertical-align: middle;\n",
       "    }\n",
       "\n",
       "    .dataframe tbody tr th {\n",
       "        vertical-align: top;\n",
       "    }\n",
       "\n",
       "    .dataframe thead th {\n",
       "        text-align: right;\n",
       "    }\n",
       "</style>\n",
       "<table border=\"1\" class=\"dataframe\">\n",
       "  <thead>\n",
       "    <tr style=\"text-align: right;\">\n",
       "      <th></th>\n",
       "      <th>Gender</th>\n",
       "      <th>AgeRange</th>\n",
       "      <th>HeadSize</th>\n",
       "      <th>BrainWeight</th>\n",
       "    </tr>\n",
       "  </thead>\n",
       "  <tbody>\n",
       "    <tr>\n",
       "      <th>count</th>\n",
       "      <td>237.000000</td>\n",
       "      <td>237.000000</td>\n",
       "      <td>237.000000</td>\n",
       "      <td>237.000000</td>\n",
       "    </tr>\n",
       "    <tr>\n",
       "      <th>mean</th>\n",
       "      <td>1.434599</td>\n",
       "      <td>1.535865</td>\n",
       "      <td>3633.991561</td>\n",
       "      <td>1282.873418</td>\n",
       "    </tr>\n",
       "    <tr>\n",
       "      <th>std</th>\n",
       "      <td>0.496753</td>\n",
       "      <td>0.499768</td>\n",
       "      <td>365.261422</td>\n",
       "      <td>120.340446</td>\n",
       "    </tr>\n",
       "    <tr>\n",
       "      <th>min</th>\n",
       "      <td>1.000000</td>\n",
       "      <td>1.000000</td>\n",
       "      <td>2720.000000</td>\n",
       "      <td>955.000000</td>\n",
       "    </tr>\n",
       "    <tr>\n",
       "      <th>25%</th>\n",
       "      <td>1.000000</td>\n",
       "      <td>1.000000</td>\n",
       "      <td>3389.000000</td>\n",
       "      <td>1207.000000</td>\n",
       "    </tr>\n",
       "    <tr>\n",
       "      <th>50%</th>\n",
       "      <td>1.000000</td>\n",
       "      <td>2.000000</td>\n",
       "      <td>3614.000000</td>\n",
       "      <td>1280.000000</td>\n",
       "    </tr>\n",
       "    <tr>\n",
       "      <th>75%</th>\n",
       "      <td>2.000000</td>\n",
       "      <td>2.000000</td>\n",
       "      <td>3876.000000</td>\n",
       "      <td>1350.000000</td>\n",
       "    </tr>\n",
       "    <tr>\n",
       "      <th>max</th>\n",
       "      <td>2.000000</td>\n",
       "      <td>2.000000</td>\n",
       "      <td>4747.000000</td>\n",
       "      <td>1635.000000</td>\n",
       "    </tr>\n",
       "  </tbody>\n",
       "</table>\n",
       "</div>"
      ],
      "text/plain": [
       "           Gender    AgeRange     HeadSize  BrainWeight\n",
       "count  237.000000  237.000000   237.000000   237.000000\n",
       "mean     1.434599    1.535865  3633.991561  1282.873418\n",
       "std      0.496753    0.499768   365.261422   120.340446\n",
       "min      1.000000    1.000000  2720.000000   955.000000\n",
       "25%      1.000000    1.000000  3389.000000  1207.000000\n",
       "50%      1.000000    2.000000  3614.000000  1280.000000\n",
       "75%      2.000000    2.000000  3876.000000  1350.000000\n",
       "max      2.000000    2.000000  4747.000000  1635.000000"
      ]
     },
     "execution_count": 7,
     "metadata": {},
     "output_type": "execute_result"
    }
   ],
   "source": [
    "headbrain.describe()"
   ]
  },
  {
   "cell_type": "code",
   "execution_count": 4,
   "metadata": {},
   "outputs": [
    {
     "data": {
      "text/html": [
       "<div>\n",
       "<style scoped>\n",
       "    .dataframe tbody tr th:only-of-type {\n",
       "        vertical-align: middle;\n",
       "    }\n",
       "\n",
       "    .dataframe tbody tr th {\n",
       "        vertical-align: top;\n",
       "    }\n",
       "\n",
       "    .dataframe thead th {\n",
       "        text-align: right;\n",
       "    }\n",
       "</style>\n",
       "<table border=\"1\" class=\"dataframe\">\n",
       "  <thead>\n",
       "    <tr style=\"text-align: right;\">\n",
       "      <th></th>\n",
       "      <th>Gender</th>\n",
       "      <th>AgeRange</th>\n",
       "      <th>HeadSize</th>\n",
       "      <th>BrainWeight</th>\n",
       "    </tr>\n",
       "  </thead>\n",
       "  <tbody>\n",
       "    <tr>\n",
       "      <th>232</th>\n",
       "      <td>2</td>\n",
       "      <td>2</td>\n",
       "      <td>3214</td>\n",
       "      <td>1110</td>\n",
       "    </tr>\n",
       "    <tr>\n",
       "      <th>233</th>\n",
       "      <td>2</td>\n",
       "      <td>2</td>\n",
       "      <td>3394</td>\n",
       "      <td>1215</td>\n",
       "    </tr>\n",
       "    <tr>\n",
       "      <th>234</th>\n",
       "      <td>2</td>\n",
       "      <td>2</td>\n",
       "      <td>3233</td>\n",
       "      <td>1104</td>\n",
       "    </tr>\n",
       "    <tr>\n",
       "      <th>235</th>\n",
       "      <td>2</td>\n",
       "      <td>2</td>\n",
       "      <td>3352</td>\n",
       "      <td>1170</td>\n",
       "    </tr>\n",
       "    <tr>\n",
       "      <th>236</th>\n",
       "      <td>2</td>\n",
       "      <td>2</td>\n",
       "      <td>3391</td>\n",
       "      <td>1120</td>\n",
       "    </tr>\n",
       "  </tbody>\n",
       "</table>\n",
       "</div>"
      ],
      "text/plain": [
       "     Gender  AgeRange  HeadSize  BrainWeight\n",
       "232       2         2      3214         1110\n",
       "233       2         2      3394         1215\n",
       "234       2         2      3233         1104\n",
       "235       2         2      3352         1170\n",
       "236       2         2      3391         1120"
      ]
     },
     "execution_count": 4,
     "metadata": {},
     "output_type": "execute_result"
    }
   ],
   "source": [
    "headbrain.tail()"
   ]
  },
  {
   "cell_type": "code",
   "execution_count": 5,
   "metadata": {},
   "outputs": [
    {
     "data": {
      "text/html": [
       "<div>\n",
       "<style scoped>\n",
       "    .dataframe tbody tr th:only-of-type {\n",
       "        vertical-align: middle;\n",
       "    }\n",
       "\n",
       "    .dataframe tbody tr th {\n",
       "        vertical-align: top;\n",
       "    }\n",
       "\n",
       "    .dataframe thead th {\n",
       "        text-align: right;\n",
       "    }\n",
       "</style>\n",
       "<table border=\"1\" class=\"dataframe\">\n",
       "  <thead>\n",
       "    <tr style=\"text-align: right;\">\n",
       "      <th></th>\n",
       "      <th>Gender</th>\n",
       "      <th>AgeRange</th>\n",
       "      <th>HeadSize</th>\n",
       "      <th>BrainWeight</th>\n",
       "    </tr>\n",
       "  </thead>\n",
       "  <tbody>\n",
       "    <tr>\n",
       "      <th>0</th>\n",
       "      <td>1</td>\n",
       "      <td>1</td>\n",
       "      <td>4512</td>\n",
       "      <td>1530</td>\n",
       "    </tr>\n",
       "    <tr>\n",
       "      <th>1</th>\n",
       "      <td>1</td>\n",
       "      <td>1</td>\n",
       "      <td>3738</td>\n",
       "      <td>1297</td>\n",
       "    </tr>\n",
       "    <tr>\n",
       "      <th>2</th>\n",
       "      <td>1</td>\n",
       "      <td>1</td>\n",
       "      <td>4261</td>\n",
       "      <td>1335</td>\n",
       "    </tr>\n",
       "    <tr>\n",
       "      <th>3</th>\n",
       "      <td>1</td>\n",
       "      <td>1</td>\n",
       "      <td>3777</td>\n",
       "      <td>1282</td>\n",
       "    </tr>\n",
       "    <tr>\n",
       "      <th>4</th>\n",
       "      <td>1</td>\n",
       "      <td>1</td>\n",
       "      <td>4177</td>\n",
       "      <td>1590</td>\n",
       "    </tr>\n",
       "  </tbody>\n",
       "</table>\n",
       "</div>"
      ],
      "text/plain": [
       "   Gender  AgeRange  HeadSize  BrainWeight\n",
       "0       1         1      4512         1530\n",
       "1       1         1      3738         1297\n",
       "2       1         1      4261         1335\n",
       "3       1         1      3777         1282\n",
       "4       1         1      4177         1590"
      ]
     },
     "execution_count": 5,
     "metadata": {},
     "output_type": "execute_result"
    }
   ],
   "source": [
    "headbrain.head()"
   ]
  },
  {
   "cell_type": "code",
   "execution_count": 8,
   "metadata": {},
   "outputs": [
    {
     "data": {
      "text/plain": [
       "Gender         0\n",
       "AgeRange       0\n",
       "HeadSize       0\n",
       "BrainWeight    0\n",
       "dtype: int64"
      ]
     },
     "execution_count": 8,
     "metadata": {},
     "output_type": "execute_result"
    }
   ],
   "source": [
    "headbrain.isnull().sum()"
   ]
  },
  {
   "cell_type": "code",
   "execution_count": 9,
   "metadata": {},
   "outputs": [
    {
     "data": {
      "text/plain": [
       "<matplotlib.axes._subplots.AxesSubplot at 0xcb0c7e3c18>"
      ]
     },
     "execution_count": 9,
     "metadata": {},
     "output_type": "execute_result"
    },
    {
     "data": {
      "image/png": "[encoded data removed]",
      "text/plain": [
       "<Figure size 432x288 with 2 Axes>"
      ]
     },
     "metadata": {
      "needs_background": "light"
     },
     "output_type": "display_data"
    }
   ],
   "source": [
    "sns.heatmap(headbrain.isnull())"
   ]
  },
  {
   "cell_type": "code",
   "execution_count": 10,
   "metadata": {},
   "outputs": [
    {
     "data": {
      "text/plain": [
       "<matplotlib.axes._subplots.AxesSubplot at 0xcb0cb747f0>"
      ]
     },
     "execution_count": 10,
     "metadata": {},
     "output_type": "execute_result"
    },
    {
     "data": {
      "image/png": "[encoded data removed]",
      "text/plain": [
       "<Figure size 432x288 with 1 Axes>"
      ]
     },
     "metadata": {
      "needs_background": "light"
     },
     "output_type": "display_data"
    }
   ],
   "source": [
    "headbrain['Gender'].plot.box()"
   ]
  },
  {
   "cell_type": "code",
   "execution_count": 11,
   "metadata": {},
   "outputs": [
    {
     "data": {
      "text/plain": [
       "<matplotlib.axes._subplots.AxesSubplot at 0xcb0cb4eb00>"
      ]
     },
     "execution_count": 11,
     "metadata": {},
     "output_type": "execute_result"
    },
    {
     "data": {
      "image/png": "[encoded data removed]",
      "text/plain": [
       "<Figure size 432x288 with 1 Axes>"
      ]
     },
     "metadata": {
      "needs_background": "light"
     },
     "output_type": "display_data"
    }
   ],
   "source": [
    "headbrain['AgeRange'].plot.box()\n"
   ]
  },
  {
   "cell_type": "code",
   "execution_count": 12,
   "metadata": {},
   "outputs": [
    {
     "data": {
      "text/plain": [
       "<matplotlib.axes._subplots.AxesSubplot at 0xcb127f7390>"
      ]
     },
     "execution_count": 12,
     "metadata": {},
     "output_type": "execute_result"
    },
    {
     "data": {
      "image/png": "[encoded data removed]",
      "text/plain": [
       "<Figure size 432x288 with 1 Axes>"
      ]
     },
     "metadata": {
      "needs_background": "light"
     },
     "output_type": "display_data"
    }
   ],
   "source": [
    "headbrain['HeadSize'].plot.box()"
   ]
  },
  {
   "cell_type": "code",
   "execution_count": 13,
   "metadata": {},
   "outputs": [
    {
     "data": {
      "text/plain": [
       "<matplotlib.axes._subplots.AxesSubplot at 0xcb128592e8>"
      ]
     },
     "execution_count": 13,
     "metadata": {},
     "output_type": "execute_result"
    },
    {
     "data": {
      "image/png": "[encoded data removed]",
      "text/plain": [
       "<Figure size 432x288 with 1 Axes>"
      ]
     },
     "metadata": {
      "needs_background": "light"
     },
     "output_type": "display_data"
    }
   ],
   "source": [
    "headbrain['BrainWeight'].plot.box()"
   ]
  },
  {
   "cell_type": "code",
   "execution_count": 14,
   "metadata": {},
   "outputs": [
    {
     "data": {
      "text/plain": [
       "Gender            AxesSubplot(0.125,0.125;0.168478x0.755)\n",
       "AgeRange       AxesSubplot(0.327174,0.125;0.168478x0.755)\n",
       "HeadSize       AxesSubplot(0.529348,0.125;0.168478x0.755)\n",
       "BrainWeight    AxesSubplot(0.731522,0.125;0.168478x0.755)\n",
       "dtype: object"
      ]
     },
     "execution_count": 14,
     "metadata": {},
     "output_type": "execute_result"
    },
    {
     "data": {
      "image/png": "[encoded data removed]",
      "text/plain": [
       "<Figure size 432x288 with 4 Axes>"
      ]
     },
     "metadata": {
      "needs_background": "light"
     },
     "output_type": "display_data"
    }
   ],
   "source": [
    "headbrain.plot(kind='box',subplots=True,layout=(1,4))"
   ]
  },
  {
   "cell_type": "code",
   "execution_count": 15,
   "metadata": {},
   "outputs": [
    {
     "name": "stdout",
     "output_type": "stream",
     "text": [
      "[[0.8767307  1.07449777 2.40886829 2.0579083 ]\n",
      " [0.8767307  1.07449777 0.28535333 0.11763692]\n",
      " [0.8767307  1.07449777 1.72023489 0.43407603]\n",
      " [0.8767307  1.07449777 0.39235214 0.00727325]\n",
      " [0.8767307  1.07449777 1.4897759  2.557549  ]\n",
      " [0.8767307  1.07449777 0.13441126 0.14261896]\n",
      " [0.8767307  1.07449777 0.41430062 0.97535345]\n",
      " [0.8767307  1.07449777 0.2057438  0.23211156]\n",
      " [0.8767307  1.07449777 0.05759159 0.60062293]\n",
      " [0.8767307  1.07449777 0.95478182 0.76716983]\n",
      " [0.8767307  1.07449777 0.52399669 0.47571276]\n",
      " [0.8767307  1.07449777 0.98496097 0.80880656]\n",
      " [0.8767307  1.07449777 0.01648451 0.60062293]\n",
      " [0.8767307  1.07449777 1.57482624 1.99128954]\n",
      " [0.8767307  1.07449777 0.54324791 0.62349678]\n",
      " [0.8767307  1.07449777 0.66396452 1.01699018]\n",
      " [0.8767307  1.07449777 0.37584448 0.62560497]\n",
      " [0.8767307  1.07449777 0.46089482 0.0760002 ]\n",
      " [0.8767307  1.07449777 1.47875536 0.47571276]\n",
      " [0.8767307  1.07449777 2.16743507 0.97535345]\n",
      " [0.8767307  1.07449777 0.66945164 0.61727762]\n",
      " [0.8767307  1.07449777 1.13036962 0.03436347]\n",
      " [0.8767307  1.07449777 0.46642825 0.06556467]\n",
      " [0.8767307  1.07449777 0.20853367 0.10720139]\n",
      " [0.8767307  1.07449777 3.05360475 2.93227952]\n",
      " [0.8767307  1.07449777 2.16469151 1.84972468]\n",
      " [0.8767307  1.07449777 1.10293403 1.7248145 ]\n",
      " [0.8767307  1.07449777 1.06452419 1.68317778]\n",
      " [0.8767307  1.07449777 0.49381754 0.22589241]\n",
      " [0.8767307  1.07449777 1.48428878 1.14190035]\n",
      " [0.8767307  1.07449777 0.41978774 0.29251117]\n",
      " [0.8767307  1.07449777 0.44447977 1.24182849]\n",
      " [0.8767307  1.07449777 1.28675251 0.67556904]\n",
      " [0.8767307  1.07449777 1.44587895 1.01699018]\n",
      " [0.8767307  1.07449777 1.43764827 1.24182849]\n",
      " [0.8767307  1.07449777 0.49386384 0.63182412]\n",
      " [0.8767307  1.07449777 0.2935377  0.76716983]\n",
      " [0.8767307  1.07449777 0.31278892 0.55898621]\n",
      " [0.8767307  1.07449777 0.82304466 0.39033112]\n",
      " [0.8767307  1.07449777 0.38956228 0.27374829]\n",
      " [0.8767307  1.07449777 0.89991063 0.55898621]\n",
      " [0.8767307  1.07449777 0.35389601 0.30916586]\n",
      " [0.8767307  1.07449777 1.8683871  2.01627157]\n",
      " [0.8767307  1.07449777 0.46642825 2.3910021 ]\n",
      " [0.8767307  1.07449777 0.62829825 0.47571276]\n",
      " [0.8767307  1.07449777 1.09744691 1.15855504]\n",
      " [0.8767307  1.07449777 1.84918218 1.85805202]\n",
      " [0.8767307  1.07449777 1.2867062  0.56520536]\n",
      " [0.8767307  1.07449777 0.01922807 0.23421975]\n",
      " [0.8767307  1.07449777 0.02745875 0.14261896]\n",
      " [0.8767307  1.07449777 0.70511792 0.49025926]\n",
      " [0.8767307  1.07449777 0.4362491  0.55898621]\n",
      " [0.8767307  1.07449777 1.74492692 0.43407603]\n",
      " [0.8767307  1.07449777 1.17701013 0.89208   ]\n",
      " [0.8767307  1.07449777 1.0370886  0.97535345]\n",
      " [0.8767307  1.07449777 0.4828433  0.48193191]\n",
      " [0.8767307  1.07449777 0.70237436 0.22589241]\n",
      " [0.8767307  0.93066736 1.45959675 2.30772865]\n",
      " [0.8767307  0.93066736 0.82583453 0.39243931]\n",
      " [0.8767307  0.93066736 0.09604773 0.50691395]\n",
      " [0.8767307  0.93066736 0.63652893 1.10026363]\n",
      " [0.8767307  0.93066736 0.66117466 0.89829916]\n",
      " [0.8767307  0.93066736 2.21681914 0.39243931]\n",
      " [0.8767307  0.93066736 1.69828641 1.68317778]\n",
      " [0.8767307  0.93066736 0.25517418 1.5582676 ]\n",
      " [0.8767307  0.93066736 0.83676246 1.23139296]\n",
      " [0.8767307  0.93066736 0.60081635 0.22589241]\n",
      " [0.8767307  0.93066736 0.71878941 1.07317341]\n",
      " [0.8767307  0.93066736 2.18389643 1.8913614 ]\n",
      " [0.8767307  0.93066736 2.04946202 1.10026363]\n",
      " [0.8767307  0.93066736 1.02611436 1.54161291]\n",
      " [0.8767307  0.93066736 0.61458046 0.89208   ]\n",
      " [0.8767307  0.93066736 1.33613657 0.80880656]\n",
      " [0.8767307  0.93066736 1.16054877 1.24182849]\n",
      " [0.8767307  0.93066736 0.52129944 0.35702174]\n",
      " [0.8767307  0.93066736 0.6584311  0.73175226]\n",
      " [0.8767307  0.93066736 0.20848736 0.48193191]\n",
      " [0.8767307  0.93066736 0.746225   0.79004368]\n",
      " [0.8767307  0.93066736 0.81211673 0.2570936 ]\n",
      " [0.8767307  0.93066736 0.55147859 0.26752913]\n",
      " [0.8767307  0.93066736 0.53776079 0.31538501]\n",
      " [0.8767307  0.93066736 0.60909334 1.2251738 ]\n",
      " [0.8767307  0.93066736 1.05624721 0.03225529]\n",
      " [0.8767307  0.93066736 0.15635973 0.31538501]\n",
      " [0.8767307  0.93066736 0.82034741 0.21756506]\n",
      " [0.8767307  0.93066736 0.59263198 1.07528159]\n",
      " [0.8767307  0.93066736 0.89163365 1.35630313]\n",
      " [0.8767307  0.93066736 0.62550839 0.52356864]\n",
      " [0.8767307  0.93066736 0.35115245 0.02392794]\n",
      " [0.8767307  0.93066736 0.74901487 1.30844725]\n",
      " [0.8767307  0.93066736 1.44313539 0.72553311]\n",
      " [0.8767307  0.93066736 0.86694161 0.7567343 ]\n",
      " [0.8767307  0.93066736 0.07684282 0.44029519]\n",
      " [0.8767307  0.93066736 0.72706639 0.52567683]\n",
      " [0.8767307  0.93066736 0.18109807 0.05934551]\n",
      " [0.8767307  0.93066736 0.39783926 0.98157261]\n",
      " [0.8767307  0.93066736 0.44168991 0.35702174]\n",
      " [0.8767307  0.93066736 0.3950494  1.25637499]\n",
      " [0.8767307  0.93066736 0.05489434 0.34036705]\n",
      " [0.8767307  0.93066736 0.42797211 0.10720139]\n",
      " [0.8767307  0.93066736 0.3813316  0.54022333]\n",
      " [0.8767307  0.93066736 0.54873503 1.2251738 ]\n",
      " [0.8767307  0.93066736 0.66396452 2.54089431]\n",
      " [0.8767307  0.93066736 0.07409926 0.30916586]\n",
      " [0.8767307  0.93066736 0.0438738  0.05934551]\n",
      " [0.8767307  0.93066736 0.03843298 0.19047484]\n",
      " [0.8767307  0.93066736 1.09195979 1.18353708]\n",
      " [0.8767307  0.93066736 0.6447133  0.47360457]\n",
      " [0.8767307  0.93066736 0.7737069  0.64225966]\n",
      " [0.8767307  0.93066736 2.18389643 2.80736935]\n",
      " [0.8767307  0.93066736 0.16738028 0.22589241]\n",
      " [0.8767307  0.93066736 0.30176838 0.27374829]\n",
      " [0.8767307  0.93066736 0.17282109 0.10098223]\n",
      " [0.8767307  0.93066736 0.10971922 0.05934551]\n",
      " [0.8767307  0.93066736 0.68861025 0.05934551]\n",
      " [0.8767307  0.93066736 0.37035736 0.06556467]\n",
      " [0.8767307  0.93066736 0.12343702 0.27374829]\n",
      " [0.8767307  0.93066736 0.72980995 0.10720139]\n",
      " [0.8767307  0.93066736 1.31693166 0.65891435]\n",
      " [0.8767307  0.93066736 0.83132165 0.14261896]\n",
      " [0.8767307  0.93066736 0.6447133  0.91495385]\n",
      " [0.8767307  0.93066736 1.55287777 0.22378422]\n",
      " [0.8767307  0.93066736 2.34302287 1.30844725]\n",
      " [0.8767307  0.93066736 0.05484804 0.85666244]\n",
      " [0.8767307  0.93066736 1.14408742 0.19258303]\n",
      " [0.8767307  0.93066736 0.40606994 0.55898621]\n",
      " [0.8767307  0.93066736 0.66666178 1.31466641]\n",
      " [0.8767307  0.93066736 1.39919214 0.98157261]\n",
      " [0.8767307  0.93066736 1.14957454 0.2425471 ]\n",
      " [0.8767307  0.93066736 0.14264194 0.14261896]\n",
      " [0.8767307  0.93066736 0.08781705 0.10720139]\n",
      " [0.8767307  0.93066736 0.27981991 0.43407603]\n",
      " [0.8767307  0.93066736 1.13036962 1.3917207 ]\n",
      " [0.8767307  0.93066736 0.09056061 0.22589241]\n",
      " [1.1406011  1.07449777 2.13172249 2.13074621]\n",
      " [1.1406011  1.07449777 0.54320161 0.39865846]\n",
      " [1.1406011  1.07449777 0.43076198 0.19047484]\n",
      " [1.1406011  1.07449777 0.91083856 0.98157261]\n",
      " [1.1406011  1.07449777 1.45406332 1.68939693]\n",
      " [1.1406011  1.07449777 1.27024484 1.29801172]\n",
      " [1.1406011  1.07449777 0.17007753 0.10720139]\n",
      " [1.1406011  1.07449777 0.28530702 0.2570936 ]\n",
      " [1.1406011  1.07449777 1.25927061 0.69011554]\n",
      " [1.1406011  1.07449777 0.53771449 0.05934551]\n",
      " [1.1406011  1.07449777 0.73804063 0.42574869]\n",
      " [1.1406011  1.07449777 0.72706639 0.80880656]\n",
      " [1.1406011  1.07449777 0.63922618 1.18975623]\n",
      " [1.1406011  1.07449777 1.00686314 0.3320397 ]\n",
      " [1.1406011  1.07449777 0.50204822 0.47571276]\n",
      " [1.1406011  1.07449777 1.49247315 0.95659058]\n",
      " [1.1406011  1.07449777 0.60630347 0.32582055]\n",
      " [1.1406011  1.07449777 0.85322382 0.28207563]\n",
      " [1.1406011  1.07449777 0.12622688 0.3174932 ]\n",
      " [1.1406011  1.07449777 0.53497093 0.7567343 ]\n",
      " [1.1406011  1.07449777 0.60086266 0.75051514]\n",
      " [1.1406011  1.07449777 1.31139823 0.93993589]\n",
      " [1.1406011  1.07449777 0.97394043 0.14883811]\n",
      " [1.1406011  1.07449777 0.20030299 0.39865846]\n",
      " [1.1406011  1.07449777 1.02062724 0.15927365]\n",
      " [1.1406011  1.07449777 1.00137602 0.34869439]\n",
      " [1.1406011  1.07449777 1.54460078 1.70605162]\n",
      " [1.1406011  1.07449777 0.39783926 1.97463485]\n",
      " [1.1406011  1.07449777 0.23592295 1.47499415]\n",
      " [1.1406011  1.07449777 0.93827416 1.73103366]\n",
      " [1.1406011  1.07449777 0.37584448 0.02392794]\n",
      " [1.1406011  1.07449777 1.51442163 0.85666244]\n",
      " [1.1406011  1.07449777 1.05899077 0.27374829]\n",
      " [1.1406011  1.07449777 0.75719924 0.77338899]\n",
      " [1.1406011  1.07449777 0.46368469 0.75884249]\n",
      " [1.1406011  1.07449777 0.18653889 0.19258303]\n",
      " [1.1406011  1.07449777 1.34157739 0.67346085]\n",
      " [1.1406011  1.07449777 0.35938313 0.35702174]\n",
      " [1.1406011  1.07449777 0.17282109 0.27585648]\n",
      " [1.1406011  1.07449777 0.2469435  0.02392794]\n",
      " [1.1406011  1.07449777 0.05210448 0.55898621]\n",
      " [1.1406011  1.07449777 1.18245094 0.85666244]\n",
      " [1.1406011  1.07449777 0.06856583 0.60684209]\n",
      " [1.1406011  1.07449777 0.20025668 1.29801172]\n",
      " [1.1406011  1.07449777 0.94655114 0.34247524]\n",
      " [1.1406011  1.07449777 0.27707635 0.60684209]\n",
      " [1.1406011  1.07449777 0.15091892 0.05934551]\n",
      " [1.1406011  1.07449777 1.30591112 1.52285003]\n",
      " [1.1406011  1.07449777 1.01788369 0.02392794]\n",
      " [1.1406011  1.07449777 1.24280925 0.89829916]\n",
      " [1.1406011  1.07449777 0.42522855 1.02320934]\n",
      " [1.1406011  1.07449777 0.02197163 0.64847881]\n",
      " [1.1406011  1.07449777 0.00546397 0.9982273 ]\n",
      " [1.1406011  0.93066736 1.5500879  2.17238294]\n",
      " [1.1406011  0.93066736 0.6584311  0.3320397 ]\n",
      " [1.1406011  0.93066736 0.18932875 0.55898621]\n",
      " [1.1406011  0.93066736 1.2867062  0.38200377]\n",
      " [1.1406011  0.93066736 0.76817348 0.65680616]\n",
      " [1.1406011  0.93066736 1.7393935  1.60612348]\n",
      " [1.1406011  0.93066736 0.1454318  0.60062293]\n",
      " [1.1406011  0.93066736 0.21397448 0.27374829]\n",
      " [1.1406011  0.93066736 2.36218148 1.72270631]\n",
      " [1.1406011  0.93066736 1.58026705 1.35630313]\n",
      " [1.1406011  0.93066736 0.79560907 0.52356864]\n",
      " [1.1406011  0.93066736 0.38681872 0.35702174]\n",
      " [1.1406011  0.93066736 0.92455636 0.52356864]\n",
      " [1.1406011  0.93066736 0.75171212 1.56448676]\n",
      " [1.1406011  0.93066736 1.11386196 0.39865846]\n",
      " [1.1406011  0.93066736 0.97942755 1.48121331]\n",
      " [1.1406011  0.93066736 0.59537554 1.01699018]\n",
      " [1.1406011  0.93066736 1.55557502 1.10648279]\n",
      " [1.1406011  0.93066736 0.1591496  0.18425568]\n",
      " [1.1406011  0.93066736 0.63648263 0.52356864]\n",
      " [1.1406011  0.93066736 0.99044809 0.10930958]\n",
      " [1.1406011  0.93066736 0.86694161 0.89829916]\n",
      " [1.1406011  0.93066736 2.50759013 2.73031505]\n",
      " [1.1406011  0.93066736 1.91223774 1.77267038]\n",
      " [1.1406011  0.93066736 0.14812905 0.30916586]\n",
      " [1.1406011  0.93066736 1.90675062 1.85594383]\n",
      " [1.1406011  0.93066736 1.76957265 1.27302968]\n",
      " [1.1406011  0.93066736 0.1316677  0.27374829]\n",
      " [1.1406011  0.93066736 1.31139823 0.48193191]\n",
      " [1.1406011  0.93066736 1.06447789 0.85666244]\n",
      " [1.1406011  0.93066736 1.2729884  0.87331713]\n",
      " [1.1406011  0.93066736 1.00411958 1.17310154]\n",
      " [1.1406011  0.93066736 0.6721489  1.27302968]\n",
      " [1.1406011  0.93066736 0.69409737 0.81502571]\n",
      " [1.1406011  0.93066736 2.11251758 2.25565639]\n",
      " [1.1406011  0.93066736 0.29084045 0.02392794]\n",
      " [1.1406011  0.93066736 0.42522855 1.497868  ]\n",
      " [1.1406011  0.93066736 0.03568942 1.04197221]\n",
      " [1.1406011  0.93066736 0.22499502 0.14261896]\n",
      " [1.1406011  0.93066736 0.96022263 0.30705767]\n",
      " [1.1406011  0.93066736 1.563852   0.80880656]\n",
      " [1.1406011  0.93066736 0.27712265 0.55898621]\n",
      " [1.1406011  0.93066736 1.14129755 1.85594383]\n",
      " [1.1406011  0.93066736 0.13994468 0.55898621]\n",
      " [1.1406011  0.93066736 0.19207231 0.52356864]\n",
      " [1.1406011  0.93066736 1.15227179 1.43957658]\n",
      " [1.1406011  0.93066736 0.6584311  0.56520536]\n",
      " [1.1406011  0.93066736 1.10014416 1.48954065]\n",
      " [1.1406011  0.93066736 0.77366059 0.93993589]\n",
      " [1.1406011  0.93066736 0.66666178 1.35630313]]\n"
     ]
    }
   ],
   "source": [
    "from scipy import stats\n",
    "z = np.abs(stats.zscore(headbrain))\n",
    "print(z)"
   ]
  },
  {
   "cell_type": "code",
   "execution_count": 16,
   "metadata": {},
   "outputs": [
    {
     "name": "stdout",
     "output_type": "stream",
     "text": [
      "(array([24], dtype=int64), array([2], dtype=int64))\n"
     ]
    }
   ],
   "source": [
    "threshold = 3\n",
    "print(np.where(z > 3))"
   ]
  },
  {
   "cell_type": "code",
   "execution_count": 17,
   "metadata": {},
   "outputs": [
    {
     "name": "stdout",
     "output_type": "stream",
     "text": [
      "3.0536047510297246\n"
     ]
    }
   ],
   "source": [
    "print(z[24][2])"
   ]
  },
  {
   "cell_type": "code",
   "execution_count": 18,
   "metadata": {},
   "outputs": [
    {
     "data": {
      "image/png": "[encoded data removed]",
      "text/plain": [
       "<Figure size 432x288 with 1 Axes>"
      ]
     },
     "metadata": {
      "needs_background": "light"
     },
     "output_type": "display_data"
    }
   ],
   "source": [
    "plt.scatter(headbrain['Gender'],headbrain['BrainWeight'])\n",
    "plt.show()"
   ]
  },
  {
   "cell_type": "code",
   "execution_count": 19,
   "metadata": {},
   "outputs": [
    {
     "data": {
      "image/png": "[encoded data removed]",
      "text/plain": [
       "<Figure size 432x288 with 1 Axes>"
      ]
     },
     "metadata": {
      "needs_background": "light"
     },
     "output_type": "display_data"
    }
   ],
   "source": [
    "plt.scatter(headbrain['AgeRange'],headbrain['BrainWeight'])\n",
    "plt.show()"
   ]
  },
  {
   "cell_type": "code",
   "execution_count": 20,
   "metadata": {},
   "outputs": [
    {
     "data": {
      "image/png": "[encoded data removed]",
      "text/plain": [
       "<Figure size 432x288 with 1 Axes>"
      ]
     },
     "metadata": {
      "needs_background": "light"
     },
     "output_type": "display_data"
    }
   ],
   "source": [
    "plt.scatter(headbrain['HeadSize'],headbrain['BrainWeight'])\n",
    "plt.show()"
   ]
  },
  {
   "cell_type": "code",
   "execution_count": 21,
   "metadata": {},
   "outputs": [
    {
     "data": {
      "text/plain": [
       "<seaborn.axisgrid.PairGrid at 0xcb0b935b70>"
      ]
     },
     "execution_count": 21,
     "metadata": {},
     "output_type": "execute_result"
    },
    {
     "data": {
      "image/png": "[encoded data removed]",
      "text/plain": [
       "<Figure size 720x720 with 20 Axes>"
      ]
     },
     "metadata": {
      "needs_background": "light"
     },
     "output_type": "display_data"
    }
   ],
   "source": [
    "sns.pairplot(headbrain)"
   ]
  },
  {
   "cell_type": "code",
   "execution_count": 22,
   "metadata": {},
   "outputs": [
    {
     "data": {
      "image/png": "[encoded data removed]",
      "text/plain": [
       "<Figure size 432x504 with 2 Axes>"
      ]
     },
     "metadata": {
      "needs_background": "light"
     },
     "output_type": "display_data"
    }
   ],
   "source": [
    "corr_hmap=headbrain.corr()\n",
    "plt.figure(figsize=(6,7))\n",
    "sns.heatmap(corr_hmap,annot=True)\n",
    "plt.show()"
   ]
  },
  {
   "cell_type": "code",
   "execution_count": 25,
   "metadata": {},
   "outputs": [],
   "source": [
    "headbrain_new=headbrain[(z<3).all(axis=1)]"
   ]
  },
  {
   "cell_type": "code",
   "execution_count": 26,
   "metadata": {},
   "outputs": [
    {
     "data": {
      "text/plain": [
       "(236, 4)"
      ]
     },
     "execution_count": 26,
     "metadata": {},
     "output_type": "execute_result"
    }
   ],
   "source": [
    "headbrain_new.shape"
   ]
  },
  {
   "cell_type": "code",
   "execution_count": 28,
   "metadata": {},
   "outputs": [
    {
     "data": {
      "text/plain": [
       "(236, 4)"
      ]
     },
     "execution_count": 28,
     "metadata": {},
     "output_type": "execute_result"
    }
   ],
   "source": [
    "headbrain=headbrain_new\n",
    "headbrain.shape"
   ]
  },
  {
   "cell_type": "code",
   "execution_count": 29,
   "metadata": {},
   "outputs": [
    {
     "data": {
      "text/html": [
       "<div>\n",
       "<style scoped>\n",
       "    .dataframe tbody tr th:only-of-type {\n",
       "        vertical-align: middle;\n",
       "    }\n",
       "\n",
       "    .dataframe tbody tr th {\n",
       "        vertical-align: top;\n",
       "    }\n",
       "\n",
       "    .dataframe thead th {\n",
       "        text-align: right;\n",
       "    }\n",
       "</style>\n",
       "<table border=\"1\" class=\"dataframe\">\n",
       "  <thead>\n",
       "    <tr style=\"text-align: right;\">\n",
       "      <th></th>\n",
       "      <th>Gender</th>\n",
       "      <th>AgeRange</th>\n",
       "      <th>HeadSize</th>\n",
       "    </tr>\n",
       "  </thead>\n",
       "  <tbody>\n",
       "    <tr>\n",
       "      <th>0</th>\n",
       "      <td>1</td>\n",
       "      <td>1</td>\n",
       "      <td>4512</td>\n",
       "    </tr>\n",
       "    <tr>\n",
       "      <th>1</th>\n",
       "      <td>1</td>\n",
       "      <td>1</td>\n",
       "      <td>3738</td>\n",
       "    </tr>\n",
       "    <tr>\n",
       "      <th>2</th>\n",
       "      <td>1</td>\n",
       "      <td>1</td>\n",
       "      <td>4261</td>\n",
       "    </tr>\n",
       "    <tr>\n",
       "      <th>3</th>\n",
       "      <td>1</td>\n",
       "      <td>1</td>\n",
       "      <td>3777</td>\n",
       "    </tr>\n",
       "    <tr>\n",
       "      <th>4</th>\n",
       "      <td>1</td>\n",
       "      <td>1</td>\n",
       "      <td>4177</td>\n",
       "    </tr>\n",
       "  </tbody>\n",
       "</table>\n",
       "</div>"
      ],
      "text/plain": [
       "   Gender  AgeRange  HeadSize\n",
       "0       1         1      4512\n",
       "1       1         1      3738\n",
       "2       1         1      4261\n",
       "3       1         1      3777\n",
       "4       1         1      4177"
      ]
     },
     "execution_count": 29,
     "metadata": {},
     "output_type": "execute_result"
    }
   ],
   "source": [
    "x=headbrain.iloc[:,0:-1]\n",
    "x.head()"
   ]
  },
  {
   "cell_type": "code",
   "execution_count": 30,
   "metadata": {},
   "outputs": [
    {
     "data": {
      "text/plain": [
       "0    1530\n",
       "1    1297\n",
       "2    1335\n",
       "3    1282\n",
       "4    1590\n",
       "Name: BrainWeight, dtype: int64"
      ]
     },
     "execution_count": 30,
     "metadata": {},
     "output_type": "execute_result"
    }
   ],
   "source": [
    "y=headbrain.iloc[:,-1]\n",
    "y.head()"
   ]
  },
  {
   "cell_type": "code",
   "execution_count": 31,
   "metadata": {},
   "outputs": [
    {
     "data": {
      "text/plain": [
       "(236, 3)"
      ]
     },
     "execution_count": 31,
     "metadata": {},
     "output_type": "execute_result"
    }
   ],
   "source": [
    "x.shape"
   ]
  },
  {
   "cell_type": "code",
   "execution_count": 32,
   "metadata": {},
   "outputs": [
    {
     "data": {
      "text/plain": [
       "(236,)"
      ]
     },
     "execution_count": 32,
     "metadata": {},
     "output_type": "execute_result"
    }
   ],
   "source": [
    "y.shape"
   ]
  },
  {
   "cell_type": "code",
   "execution_count": 45,
   "metadata": {},
   "outputs": [],
   "source": [
    "x_train,x_test,y_train,y_test=train_test_split(x,y,test_size=0.35,random_state=47)"
   ]
  },
  {
   "cell_type": "code",
   "execution_count": 46,
   "metadata": {},
   "outputs": [
    {
     "data": {
      "text/plain": [
       "(153, 3)"
      ]
     },
     "execution_count": 46,
     "metadata": {},
     "output_type": "execute_result"
    }
   ],
   "source": [
    "x_train.shape"
   ]
  },
  {
   "cell_type": "code",
   "execution_count": 47,
   "metadata": {},
   "outputs": [
    {
     "data": {
      "text/plain": [
       "(153,)"
      ]
     },
     "execution_count": 47,
     "metadata": {},
     "output_type": "execute_result"
    }
   ],
   "source": [
    "y_train.shape"
   ]
  },
  {
   "cell_type": "code",
   "execution_count": 48,
   "metadata": {},
   "outputs": [],
   "source": [
    "lr=LinearRegression()"
   ]
  },
  {
   "cell_type": "code",
   "execution_count": 49,
   "metadata": {},
   "outputs": [
    {
     "data": {
      "text/plain": [
       "LinearRegression(copy_X=True, fit_intercept=True, n_jobs=None, normalize=False)"
      ]
     },
     "execution_count": 49,
     "metadata": {},
     "output_type": "execute_result"
    }
   ],
   "source": [
    "lr.fit(x_train,y_train)"
   ]
  },
  {
   "cell_type": "code",
   "execution_count": 50,
   "metadata": {},
   "outputs": [
    {
     "data": {
      "text/plain": [
       "array([-22.02493635, -15.51952636,   0.23544708])"
      ]
     },
     "execution_count": 50,
     "metadata": {},
     "output_type": "execute_result"
    }
   ],
   "source": [
    "lr.coef_"
   ]
  },
  {
   "cell_type": "code",
   "execution_count": 51,
   "metadata": {},
   "outputs": [
    {
     "data": {
      "text/plain": [
       "480.2388946189685"
      ]
     },
     "execution_count": 51,
     "metadata": {},
     "output_type": "execute_result"
    }
   ],
   "source": [
    "lr.intercept_"
   ]
  },
  {
   "cell_type": "code",
   "execution_count": 52,
   "metadata": {},
   "outputs": [
    {
     "data": {
      "text/plain": [
       "Index(['Gender', 'AgeRange', 'HeadSize', 'BrainWeight'], dtype='object')"
      ]
     },
     "execution_count": 52,
     "metadata": {},
     "output_type": "execute_result"
    }
   ],
   "source": [
    "headbrain.columns"
   ]
  },
  {
   "cell_type": "code",
   "execution_count": 53,
   "metadata": {},
   "outputs": [
    {
     "data": {
      "text/plain": [
       "0.6148665723694707"
      ]
     },
     "execution_count": 53,
     "metadata": {},
     "output_type": "execute_result"
    }
   ],
   "source": [
    "lr.score(x_train,y_train)"
   ]
  },
  {
   "cell_type": "code",
   "execution_count": 54,
   "metadata": {},
   "outputs": [
    {
     "name": "stdout",
     "output_type": "stream",
     "text": [
      "predicted result brainweight: [1286.77221699 1227.56662283 1266.05287387 1355.7582117  1273.37171435\n",
      " 1316.07474427 1277.01050982 1206.26929629 1311.85667779 1253.3387315\n",
      " 1273.11628629 1150.33998029 1169.41119384 1242.39978892 1204.25736182\n",
      " 1218.74799158 1206.14093846 1505.031661   1422.3897356  1274.42059193\n",
      " 1111.49121193 1428.53134068 1289.14666877 1097.12894    1250.06245334\n",
      " 1363.63505462 1287.49853921 1355.28731753 1380.24470811 1093.34180573\n",
      " 1285.72205181 1185.40161437 1344.92764597 1272.19447895 1421.68339435\n",
      " 1352.22650548 1267.93645051 1392.95885048 1167.27218913 1165.17314638\n",
      " 1389.66259135 1299.95725352 1338.33512771 1304.68617611 1162.81867557\n",
      " 1353.18827478 1263.82547329 1176.71005335 1331.97805652 1258.77399534\n",
      " 1203.55102057 1148.20097558 1190.34600306 1370.84680585 1290.55935126\n",
      " 1345.76105745 1226.04685109 1277.2459569  1291.03024542 1433.4557484\n",
      " 1457.00045649 1174.80649572 1261.68646858 1226.28229817 1322.79562037\n",
      " 1325.15009118 1352.48193354 1127.26616636 1278.08065597 1379.79379493\n",
      " 1408.7338049  1330.11446085 1221.42501775 1270.54634938 1483.86140469\n",
      " 1227.45953357 1151.51721569 1316.92942432 1194.83947858 1196.25216106\n",
      " 1169.62665994 1189.8751089  1349.18567441]\n",
      "actual brainweight 5      1300\n",
      "198    1240\n",
      "16     1358\n",
      "20     1357\n",
      "113    1290\n",
      "168    1374\n",
      "189    1350\n",
      "86     1120\n",
      "203    1405\n",
      "10     1340\n",
      "36     1375\n",
      "190    1237\n",
      "216    1180\n",
      "194    1250\n",
      "233    1215\n",
      "77     1188\n",
      "206    1220\n",
      "0      1530\n",
      "33     1405\n",
      "205    1305\n",
      "192    1090\n",
      "63     1485\n",
      "103    1320\n",
      "212    1060\n",
      "100    1218\n",
      "182    1280\n",
      "98     1242\n",
      "15     1405\n",
      "9      1375\n",
      "134    1027\n",
      "       ... \n",
      "70     1468\n",
      "133    1310\n",
      "207    1296\n",
      "61     1175\n",
      "231    1220\n",
      "59     1222\n",
      "13     1522\n",
      "46     1506\n",
      "175    1180\n",
      "140    1270\n",
      "75     1195\n",
      "1      1297\n",
      "37     1350\n",
      "78     1252\n",
      "204    1150\n",
      "123    1180\n",
      "132    1450\n",
      "32     1364\n",
      "79     1315\n",
      "146    1140\n",
      "129    1300\n",
      "122    1440\n",
      "120    1173\n",
      "217    1178\n",
      "95     1165\n",
      "191    1204\n",
      "200    1095\n",
      "183    1175\n",
      "147    1243\n",
      "108    1360\n",
      "Name: BrainWeight, Length: 83, dtype: int64\n"
     ]
    }
   ],
   "source": [
    "pred=lr.predict(x_test)\n",
    "print(\"predicted result brainweight:\",pred)\n",
    "print(\"actual brainweight\",y_test)"
   ]
  },
  {
   "cell_type": "code",
   "execution_count": 55,
   "metadata": {},
   "outputs": [
    {
     "name": "stdout",
     "output_type": "stream",
     "text": [
      "error:\n",
      "4664.6283405260165\n"
     ]
    }
   ],
   "source": [
    "print('error:')\n",
    "print(mean_squared_error(y_test,pred))"
   ]
  },
  {
   "cell_type": "code",
   "execution_count": 56,
   "metadata": {},
   "outputs": [
    {
     "name": "stdout",
     "output_type": "stream",
     "text": [
      "0.6796231243413806\n"
     ]
    }
   ],
   "source": [
    "from sklearn.metrics import r2_score\n",
    "print(r2_score(y_test,pred))"
   ]
  },
  {
   "cell_type": "code",
   "execution_count": null,
   "metadata": {},
   "outputs": [],
   "source": []
  }
 ],
 "metadata": {
  "kernelspec": {
   "display_name": "Python 3",
   "language": "python",
   "name": "python3"
  },
  "language_info": {
   "codemirror_mode": {
    "name": "ipython",
    "version": 3
   },
   "file_extension": ".py",
   "mimetype": "text/x-python",
   "name": "python",
   "nbconvert_exporter": "python",
   "pygments_lexer": "ipython3",
   "version": "3.7.3"
  }
 },
 "nbformat": 4,
 "nbformat_minor": 2
}
